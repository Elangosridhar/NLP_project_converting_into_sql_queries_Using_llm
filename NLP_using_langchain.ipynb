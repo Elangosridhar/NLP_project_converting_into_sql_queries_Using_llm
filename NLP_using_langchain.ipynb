{
 "cells": [
  {
   "cell_type": "markdown",
   "id": "efcfd8a9",
   "metadata": {},
   "source": [
    "### install langchain and import  googlepalm form langchain \n",
    "\n",
    "\n",
    "### generate your own api_key "
   ]
  },
  {
   "cell_type": "code",
   "execution_count": 27,
   "id": "c2257322",
   "metadata": {},
   "outputs": [],
   "source": [
    "from langchain.llms import GooglePalm\n",
    "\n",
    "api_key = 'api_key'\n",
    "llm = GooglePalm(google_api_key=api_key, temperature=0.2)\n"
   ]
  },
  {
   "cell_type": "markdown",
   "id": "7391593c",
   "metadata": {},
   "source": [
    "### connect your database to jupiternote book"
   ]
  },
  {
   "cell_type": "code",
   "execution_count": 33,
   "id": "de5468eb",
   "metadata": {},
   "outputs": [
    {
     "name": "stdout",
     "output_type": "stream",
     "text": [
      "\n",
      "CREATE TABLE hospitalpatient (\n",
      "\t`ID` INTEGER NOT NULL AUTO_INCREMENT, \n",
      "\t`Name` VARCHAR(100), \n",
      "\t`Age` INTEGER, \n",
      "\t`Gender` VARCHAR(10), \n",
      "\t`AdmissionDate` DATE, \n",
      "\t`HospitalName` VARCHAR(100), \n",
      "\t`HospitalAddress` VARCHAR(255), \n",
      "\t`HospitalCity` VARCHAR(100), \n",
      "\t`HospitalState` VARCHAR(15), \n",
      "\t`HospitalZipCode` VARCHAR(10), \n",
      "\tPRIMARY KEY (`ID`)\n",
      ")DEFAULT CHARSET=utf8mb4 COLLATE utf8mb4_0900_ai_ci ENGINE=InnoDB\n",
      "\n",
      "/*\n",
      "3 rows from hospitalpatient table:\n",
      "ID\tName\tAge\tGender\tAdmissionDate\tHospitalName\tHospitalAddress\tHospitalCity\tHospitalState\tHospitalZipCode\n",
      "1\tPatient_1\t44\tFemale\t2024-07-03\tMayo Clinic\t Example st2\tNew York City\tNew york\t12345\n",
      "2\tPatient_2\t59\tFemale\t2024-01-16\tJohns Hopkins Hospital\t Example St1\tLos Angeles\tCalifornia\t12347\n",
      "3\tPatient_3\t75\tFemale\t2024-01-15\tMayo Clinic\t Example St1\tNew York City\tNew york\t12347\n",
      "*/\n"
     ]
    }
   ],
   "source": [
    "from langchain.utilities import SQLDatabase\n",
    "\n",
    "db_user = \"root\"\n",
    "db_password = 'elangoes11'\n",
    "db_host = \"127.0.0.1\"\n",
    "db_name = \"hospitaldetails\"\n",
    "\n",
    "db = SQLDatabase.from_uri(f\"mysql+pymysql://{db_user}:{db_password}@{db_host}/{db_name}\", sample_rows_in_table_info=3)\n",
    "print(db.table_info)\n"
   ]
  },
  {
   "cell_type": "code",
   "execution_count": 37,
   "id": "97f1cefd",
   "metadata": {},
   "outputs": [
    {
     "name": "stdout",
     "output_type": "stream",
     "text": [
      "\n",
      "\n",
      "\u001b[1m> Entering new SQLDatabaseChain chain...\u001b[0m\n",
      "how many boys are in hospital mayo clinic\n",
      "SQLQuery:\u001b[32;1m\u001b[1;3mSELECT COUNT(*) FROM hospitalpatient WHERE HospitalName = 'Mayo Clinic' AND Gender = 'Male'\u001b[0m\n",
      "SQLResult: \u001b[33;1m\u001b[1;3m[(49,)]\u001b[0m\n",
      "Answer:\u001b[32;1m\u001b[1;3m49\u001b[0m\n",
      "\u001b[1m> Finished chain.\u001b[0m\n"
     ]
    }
   ],
   "source": [
    "from langchain_experimental.sql import SQLDatabaseChain\n",
    "\n",
    "db_chain = SQLDatabaseChain.from_llm(llm, db , verbose=True)\n",
    "qns1 = db_chain.run(\"how many boys are in hospital mayo clinic\")"
   ]
  },
  {
   "cell_type": "code",
   "execution_count": 35,
   "id": "c2f0899c",
   "metadata": {},
   "outputs": [
    {
     "name": "stdout",
     "output_type": "stream",
     "text": [
      "\n",
      "\n",
      "\u001b[1m> Entering new SQLDatabaseChain chain...\u001b[0m\n",
      "How many girls are admitted in the hospital mayo clinic \n",
      "SQLQuery:\u001b[32;1m\u001b[1;3mSELECT count(*) FROM hospitalpatient WHERE Gender = 'Female' AND HospitalName = 'Mayo Clinic'\u001b[0m\n",
      "SQLResult: \u001b[33;1m\u001b[1;3m[(53,)]\u001b[0m\n",
      "Answer:\u001b[32;1m\u001b[1;3m53\u001b[0m\n",
      "\u001b[1m> Finished chain.\u001b[0m\n"
     ]
    }
   ],
   "source": [
    "qns2 = db_chain.run(\"How many girls are admitted in the hospital mayo clinic \")"
   ]
  },
  {
   "cell_type": "code",
   "execution_count": 36,
   "id": "7cb0c4dd",
   "metadata": {},
   "outputs": [
    {
     "name": "stdout",
     "output_type": "stream",
     "text": [
      "\n",
      "\n",
      "\u001b[1m> Entering new SQLDatabaseChain chain...\u001b[0m\n",
      "How many boys are in california hospital \n",
      "SQLQuery:\u001b[32;1m\u001b[1;3mSELECT COUNT(*) FROM hospitalpatient WHERE Gender = 'Male' AND HospitalState = 'California'\u001b[0m\n",
      "SQLResult: \u001b[33;1m\u001b[1;3m[(51,)]\u001b[0m\n",
      "Answer:\u001b[32;1m\u001b[1;3m51\u001b[0m\n",
      "\u001b[1m> Finished chain.\u001b[0m\n"
     ]
    }
   ],
   "source": [
    "qn3 = db_chain.run('How many boys are in california hospital ')"
   ]
  },
  {
   "cell_type": "code",
   "execution_count": 39,
   "id": "22ba43c0",
   "metadata": {},
   "outputs": [
    {
     "name": "stdout",
     "output_type": "stream",
     "text": [
      "\n",
      "\n",
      "\u001b[1m> Entering new SQLDatabaseChain chain...\u001b[0m\n",
      "how many boys and girls in new york hospital\n",
      "SQLQuery:\u001b[32;1m\u001b[1;3mSELECT COUNT(Gender) AS Boys, COUNT(Gender) AS Girls FROM hospitalpatient WHERE HospitalCity = 'New York City' AND Gender IN ('Male', 'Female') GROUP BY Gender\u001b[0m\n",
      "SQLResult: \u001b[33;1m\u001b[1;3m[(51, 51), (48, 48)]\u001b[0m\n",
      "Answer:\u001b[32;1m\u001b[1;3m51, 51\u001b[0m\n",
      "\u001b[1m> Finished chain.\u001b[0m\n"
     ]
    }
   ],
   "source": [
    "qns4 = db_chain.run('how many boys and girls in new york hospital')"
   ]
  },
  {
   "cell_type": "code",
   "execution_count": null,
   "id": "c53ebd02",
   "metadata": {},
   "outputs": [],
   "source": []
  }
 ],
 "metadata": {
  "kernelspec": {
   "display_name": "Python 3",
   "language": "python",
   "name": "python3"
  },
  "language_info": {
   "codemirror_mode": {
    "name": "ipython",
    "version": 3
   },
   "file_extension": ".py",
   "mimetype": "text/x-python",
   "name": "python",
   "nbconvert_exporter": "python",
   "pygments_lexer": "ipython3",
   "version": "3.8.8"
  }
 },
 "nbformat": 4,
 "nbformat_minor": 5
}
